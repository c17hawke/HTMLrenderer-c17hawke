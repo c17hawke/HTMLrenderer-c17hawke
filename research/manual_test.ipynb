{
 "cells": [
  {
   "cell_type": "code",
   "execution_count": 1,
   "metadata": {},
   "outputs": [],
   "source": [
    "from HTMLrenderer import *"
   ]
  },
  {
   "cell_type": "code",
   "execution_count": 2,
   "metadata": {},
   "outputs": [
    {
     "name": "stdout",
     "output_type": "stream",
     "text": [
      "response_status: 200 OK\n"
     ]
    },
    {
     "data": {
      "text/html": [
       "\n",
       "        <iframe\n",
       "            width=\"100%\"\n",
       "            height=\"600\"\n",
       "            src=\"http://pytorch.org/\"\n",
       "            frameborder=\"0\"\n",
       "            allowfullscreen\n",
       "            \n",
       "        ></iframe>\n",
       "        "
      ],
      "text/plain": [
       "<IPython.lib.display.IFrame at 0x26d973a7820>"
      ]
     },
     "metadata": {},
     "output_type": "display_data"
    },
    {
     "name": "stdout",
     "output_type": "stream",
     "text": [
      "\n",
      "\n",
      "\n",
      "\n"
     ]
    },
    {
     "data": {
      "text/plain": [
       "'success'"
      ]
     },
     "execution_count": 2,
     "metadata": {},
     "output_type": "execute_result"
    }
   ],
   "source": [
    "URL = \"http://pytorch.org/\"\n",
    "render_site(URL = URL)"
   ]
  },
  {
   "cell_type": "code",
   "execution_count": 3,
   "metadata": {},
   "outputs": [
    {
     "name": "stdout",
     "output_type": "stream",
     "text": [
      "response_status: 200 OK\n"
     ]
    },
    {
     "data": {
      "text/html": [
       "\n",
       "        <iframe\n",
       "            width=\"100%\"\n",
       "            height=\"600\"\n",
       "            src=\"http://pytorch.org/\"\n",
       "            frameborder=\"0\"\n",
       "            allowfullscreen\n",
       "            \n",
       "        ></iframe>\n",
       "        "
      ],
      "text/plain": [
       "<IPython.lib.display.IFrame at 0x26d973a7f70>"
      ]
     },
     "metadata": {},
     "output_type": "display_data"
    },
    {
     "name": "stdout",
     "output_type": "stream",
     "text": [
      "\n",
      "\n",
      "\n",
      "\n"
     ]
    },
    {
     "data": {
      "text/plain": [
       "'success'"
      ]
     },
     "execution_count": 3,
     "metadata": {},
     "output_type": "execute_result"
    }
   ],
   "source": [
    "URL = \"http://pytorch.org/\"\n",
    "render_site(URL = URL, source = True)"
   ]
  },
  {
   "cell_type": "code",
   "execution_count": 4,
   "metadata": {},
   "outputs": [
    {
     "name": "stdout",
     "output_type": "stream",
     "text": [
      "URL is not valid\n"
     ]
    }
   ],
   "source": [
    "try:\n",
    "    URL = \"http://asyef/\"\n",
    "    render_site(URL = URL)\n",
    "except InvalidURLException as e:\n",
    "    print(e)"
   ]
  },
  {
   "cell_type": "code",
   "execution_count": 5,
   "metadata": {},
   "outputs": [],
   "source": [
    "URL=\"https://pytorch.org\"\n",
    "render_URL(URL=URL, Name=\"go-to-pytorch\")"
   ]
  },
  {
   "cell_type": "markdown",
   "metadata": {},
   "source": [
    "# Check render youtube video\n",
    "## For success"
   ]
  },
  {
   "cell_type": "code",
   "execution_count": 6,
   "metadata": {
    "scrolled": true
   },
   "outputs": [
    {
     "name": "stdout",
     "output_type": "stream",
     "text": [
      "[2022-09-05 14:49:48,779: WARNING: render]: use Class render. This method will be deprecated in next release\n"
     ]
    },
    {
     "name": "stderr",
     "output_type": "stream",
     "text": [
      "f:\\youtube_2\\playground\\htmlrenderer-c17hawke\\src\\HTMLrenderer\\render.py:102: UserWarning: use Class render. This method will be deprecated in next release\n",
      "  warnings.warn('use Class render. This method will be deprecated in next release')\n"
     ]
    },
    {
     "name": "stdout",
     "output_type": "stream",
     "text": [
      "[2022-09-05 14:49:49,669: INFO: render]: input URL: https://youtu.be/roO5VGxOw2s\n",
      "[2022-09-05 14:49:49,669: INFO: render]: vid id: roO5VGxOw2s, and starts at: 0, len of video id: 11\n",
      "[2022-09-05 14:49:49,872: INFO: render]: embed_URL: https://www.youtube.com/embed/roO5VGxOw2s?start=0\n"
     ]
    },
    {
     "name": "stderr",
     "output_type": "stream",
     "text": [
      "F:\\YOUTUBE_2\\playground\\HTMLrenderer-c17hawke\\env\\lib\\site-packages\\IPython\\core\\display.py:419: UserWarning: Consider using IPython.display.IFrame instead\n",
      "  warnings.warn(\"Consider using IPython.display.IFrame instead\")\n"
     ]
    },
    {
     "data": {
      "text/html": [
       "<iframe \n",
       "                width=\"780\" height=\"600\" \n",
       "                src=\"https://www.youtube.com/embed/roO5VGxOw2s?start=0\" \n",
       "                title=\"YouTube video player\" \n",
       "                frameborder=\"0\" \n",
       "                allow=\"accelerometer; \n",
       "                autoplay; clipboard-write; \n",
       "                encrypted-media; gyroscope; \n",
       "                picture-in-picture\" allowfullscreen>\n",
       "                </iframe>"
      ],
      "text/plain": [
       "<IPython.core.display.HTML object>"
      ]
     },
     "metadata": {},
     "output_type": "display_data"
    },
    {
     "data": {
      "text/plain": [
       "'success'"
      ]
     },
     "metadata": {},
     "output_type": "display_data"
    },
    {
     "name": "stdout",
     "output_type": "stream",
     "text": [
      "success\n"
     ]
    }
   ],
   "source": [
    "URL = \"https://youtu.be/roO5VGxOw2s\"\n",
    "try:\n",
    "    response = render_YouTube_video(URL=URL)\n",
    "    display(response)\n",
    "    print(response)\n",
    "except Exception as e:\n",
    "    raise e\n",
    "    print(\"Exception:\", e)"
   ]
  },
  {
   "cell_type": "code",
   "execution_count": 7,
   "metadata": {},
   "outputs": [
    {
     "name": "stdout",
     "output_type": "stream",
     "text": [
      "[2022-09-05 14:49:49,901: WARNING: render]: use Class render. This method will be deprecated in next release\n",
      "[2022-09-05 14:49:50,445: INFO: render]: input URL: https://www.youtube.com/watch?v=roO5VGxOw2s\n",
      "[2022-09-05 14:49:50,446: INFO: render]: vid id: roO5VGxOw2s, and starts at: 0, len of video id: 11\n",
      "[2022-09-05 14:49:50,621: INFO: render]: embed_URL: https://www.youtube.com/embed/roO5VGxOw2s?start=0\n"
     ]
    },
    {
     "data": {
      "text/html": [
       "<iframe \n",
       "                width=\"780\" height=\"600\" \n",
       "                src=\"https://www.youtube.com/embed/roO5VGxOw2s?start=0\" \n",
       "                title=\"YouTube video player\" \n",
       "                frameborder=\"0\" \n",
       "                allow=\"accelerometer; \n",
       "                autoplay; clipboard-write; \n",
       "                encrypted-media; gyroscope; \n",
       "                picture-in-picture\" allowfullscreen>\n",
       "                </iframe>"
      ],
      "text/plain": [
       "<IPython.core.display.HTML object>"
      ]
     },
     "metadata": {},
     "output_type": "display_data"
    },
    {
     "name": "stdout",
     "output_type": "stream",
     "text": [
      "success\n"
     ]
    }
   ],
   "source": [
    "URL = \"https://www.youtube.com/watch?v=roO5VGxOw2s\"\n",
    "try:\n",
    "    response = render_YouTube_video(URL=URL)\n",
    "    print(response)\n",
    "except Exception as e:\n",
    "    print(\"Exception:\", e)"
   ]
  },
  {
   "cell_type": "code",
   "execution_count": 8,
   "metadata": {},
   "outputs": [
    {
     "name": "stdout",
     "output_type": "stream",
     "text": [
      "[2022-09-05 14:49:50,639: WARNING: render]: use Class render. This method will be deprecated in next release\n",
      "[2022-09-05 14:49:51,118: INFO: render]: input URL: https://www.youtube.com/watch?v=roO5VGxOw2s&t=42s\n",
      "[2022-09-05 14:49:51,119: INFO: render]: vid id: roO5VGxOw2s, and starts at: 42, len of video id: 11\n",
      "[2022-09-05 14:49:51,312: INFO: render]: embed_URL: https://www.youtube.com/embed/roO5VGxOw2s?start=42\n"
     ]
    },
    {
     "data": {
      "text/html": [
       "<iframe \n",
       "                width=\"780\" height=\"600\" \n",
       "                src=\"https://www.youtube.com/embed/roO5VGxOw2s?start=42\" \n",
       "                title=\"YouTube video player\" \n",
       "                frameborder=\"0\" \n",
       "                allow=\"accelerometer; \n",
       "                autoplay; clipboard-write; \n",
       "                encrypted-media; gyroscope; \n",
       "                picture-in-picture\" allowfullscreen>\n",
       "                </iframe>"
      ],
      "text/plain": [
       "<IPython.core.display.HTML object>"
      ]
     },
     "metadata": {},
     "output_type": "display_data"
    },
    {
     "name": "stdout",
     "output_type": "stream",
     "text": [
      "success\n"
     ]
    }
   ],
   "source": [
    "URL = \"https://www.youtube.com/watch?v=roO5VGxOw2s&t=42s\"\n",
    "try:\n",
    "    response = render_YouTube_video(URL=URL)\n",
    "    print(response)\n",
    "except Exception as e:\n",
    "    print(\"Exception:\", e)"
   ]
  },
  {
   "cell_type": "markdown",
   "metadata": {},
   "source": [
    "## For Failure"
   ]
  },
  {
   "cell_type": "code",
   "execution_count": 9,
   "metadata": {},
   "outputs": [
    {
     "name": "stdout",
     "output_type": "stream",
     "text": [
      "[2022-09-05 14:49:51,328: WARNING: render]: use Class render. This method will be deprecated in next release\n",
      "[2022-09-05 14:49:52,012: INFO: render]: input URL: https://www.youtube.com/watch?v=roO5VGxOw2sahesbf\n",
      "Invalid video id with length: 17, expected 11\n"
     ]
    }
   ],
   "source": [
    "URL = \"https://www.youtube.com/watch?v=roO5VGxOw2sahesbf\"\n",
    "try:\n",
    "    response = render_YouTube_video(URL=URL)\n",
    "    print(response)\n",
    "except Exception as e:\n",
    "    print(e)\n",
    "#     raise e"
   ]
  },
  {
   "cell_type": "code",
   "execution_count": 10,
   "metadata": {
    "scrolled": true
   },
   "outputs": [
    {
     "name": "stdout",
     "output_type": "stream",
     "text": [
      "[2022-09-05 14:49:52,030: WARNING: render]: use Class render. This method will be deprecated in next release\n",
      "URL is not accessible\n"
     ]
    }
   ],
   "source": [
    "URL = \"https://www.youtube.com/watch?v=roO5VGxOw00\"\n",
    "try:\n",
    "    response = render_YouTube_video(URL=URL)\n",
    "    print(response)\n",
    "except Exception as e:\n",
    "    print(e)\n",
    "#     raise e"
   ]
  },
  {
   "cell_type": "code",
   "execution_count": 11,
   "metadata": {
    "scrolled": true
   },
   "outputs": [
    {
     "name": "stdout",
     "output_type": "stream",
     "text": [
      "[2022-09-05 14:49:52,290: WARNING: render]: use Class render. This method will be deprecated in next release\n",
      "URL is not accessible\n"
     ]
    }
   ],
   "source": [
    "URL = \"https://www.youtube.com/watch?v=roO5VGxOw__\"\n",
    "try:\n",
    "    render_YouTube_video(URL=URL)\n",
    "except Exception as e:\n",
    "    print(e)\n",
    "#     raise e"
   ]
  },
  {
   "cell_type": "code",
   "execution_count": 12,
   "metadata": {
    "scrolled": true
   },
   "outputs": [
    {
     "name": "stdout",
     "output_type": "stream",
     "text": [
      "[2022-09-05 14:49:52,523: WARNING: render]: use Class render. This method will be deprecated in next release\n",
      "URL is not accessible\n"
     ]
    }
   ],
   "source": [
    "URL = \"https://www.youtube.com/watch?v=roO5VGxOwpp\"\n",
    "try:\n",
    "    response = render_YouTube_video(URL=URL)\n",
    "    print(response)\n",
    "except Exception as e:\n",
    "    print(e)\n",
    "#     raise e"
   ]
  },
  {
   "cell_type": "code",
   "execution_count": 13,
   "metadata": {},
   "outputs": [
    {
     "name": "stdout",
     "output_type": "stream",
     "text": [
      "[2022-09-05 14:49:52,803: WARNING: render]: use Class render. This method will be deprecated in next release\n",
      "[2022-09-05 14:49:53,334: INFO: render]: input URL: https://www.youtube.com/watch?v=roO5VGxOw2s&t\n",
      "Invalid video id with length: 29, expected 11\n"
     ]
    }
   ],
   "source": [
    "URL = \"https://www.youtube.com/watch?v=roO5VGxOw2s&t\"\n",
    "try:\n",
    "    response = render_YouTube_video(URL=URL)\n",
    "    print(response)\n",
    "except Exception as e:\n",
    "    print(e)\n",
    "#     raise e"
   ]
  },
  {
   "cell_type": "code",
   "execution_count": 14,
   "metadata": {},
   "outputs": [
    {
     "name": "stdout",
     "output_type": "stream",
     "text": [
      "[2022-09-05 14:49:53,347: WARNING: render]: use Class render. This method will be deprecated in next release\n",
      "[2022-09-05 14:49:53,903: INFO: render]: input URL: https://www.youtube.com/watch?v=roO5VGxOw2s&t==22s\n",
      "Invalid video id with length: 0, expected 11\n"
     ]
    }
   ],
   "source": [
    "URL = \"https://www.youtube.com/watch?v=roO5VGxOw2s&t==22s\"\n",
    "try:\n",
    "    response = render_YouTube_video(URL=URL)\n",
    "    print(response)\n",
    "except Exception as e:\n",
    "    print(e)\n",
    "#     raise e"
   ]
  },
  {
   "cell_type": "code",
   "execution_count": 15,
   "metadata": {},
   "outputs": [
    {
     "name": "stdout",
     "output_type": "stream",
     "text": [
      "[2022-09-05 14:49:53,925: WARNING: render]: use Class render. This method will be deprecated in next release\n",
      "URL is not accessible\n"
     ]
    }
   ],
   "source": [
    "URL = \"https://www.youtube.com/watch?v==roO5VGxOw2s&t=22s\"\n",
    "try:\n",
    "    response = render_YouTube_video(URL=URL)\n",
    "    print(response)\n",
    "except Exception as e:\n",
    "    print(e)\n",
    "#     raise e"
   ]
  },
  {
   "cell_type": "markdown",
   "metadata": {},
   "source": [
    "# Render Latex"
   ]
  },
  {
   "cell_type": "markdown",
   "metadata": {},
   "source": [
    "## Success "
   ]
  },
  {
   "cell_type": "code",
   "execution_count": 16,
   "metadata": {},
   "outputs": [
    {
     "data": {
      "text/latex": [
       "\n",
       "$$x^2=m*x+2$$\n"
      ],
      "text/plain": [
       "<IPython.core.display.Latex object>"
      ]
     },
     "metadata": {},
     "output_type": "display_data"
    },
    {
     "name": "stdout",
     "output_type": "stream",
     "text": [
      "[Hint: if not render properly, please try using raw string]\n"
     ]
    }
   ],
   "source": [
    "LATEX = \"\"\"\n",
    "$$x^2=m*x+2$$\n",
    "\"\"\"\n",
    "render_Latex(LATEX)"
   ]
  },
  {
   "cell_type": "code",
   "execution_count": 17,
   "metadata": {},
   "outputs": [
    {
     "data": {
      "text/latex": [
       "\n",
       "$$\n",
       "x^2=m*x+2\n",
       "$$\n"
      ],
      "text/plain": [
       "<IPython.core.display.Latex object>"
      ]
     },
     "metadata": {},
     "output_type": "display_data"
    },
    {
     "name": "stdout",
     "output_type": "stream",
     "text": [
      "[Hint: if not render properly, please try using raw string]\n"
     ]
    }
   ],
   "source": [
    "LATEX = \"\"\"\n",
    "$$\n",
    "x^2=m*x+2\n",
    "$$\n",
    "\"\"\"\n",
    "render_Latex(LATEX)"
   ]
  },
  {
   "cell_type": "code",
   "execution_count": 18,
   "metadata": {},
   "outputs": [
    {
     "data": {
      "text/latex": [
       "\n",
       "$x^2=m*x+2$\n"
      ],
      "text/plain": [
       "<IPython.core.display.Latex object>"
      ]
     },
     "metadata": {},
     "output_type": "display_data"
    },
    {
     "name": "stdout",
     "output_type": "stream",
     "text": [
      "[Hint: if not render properly, please try using raw string]\n"
     ]
    }
   ],
   "source": [
    "LATEX = \"\"\"\n",
    "$x^2=m*x+2$\n",
    "\"\"\"\n",
    "render_Latex(LATEX)"
   ]
  },
  {
   "cell_type": "code",
   "execution_count": 19,
   "metadata": {},
   "outputs": [
    {
     "data": {
      "text/latex": [
       "\n",
       "$$\n",
       "\\begin{bmatrix}\n",
       "22 & 1\\\\ \n",
       "44 & 11\n",
       "\\end{bmatrix}\n",
       "$$"
      ],
      "text/plain": [
       "<IPython.core.display.Latex object>"
      ]
     },
     "metadata": {},
     "output_type": "display_data"
    },
    {
     "name": "stdout",
     "output_type": "stream",
     "text": [
      "[Hint: if not render properly, please try using raw string]\n"
     ]
    }
   ],
   "source": [
    "LATEX =r\"\"\"\n",
    "$$\n",
    "\\begin{bmatrix}\n",
    "22 & 1\\\\ \n",
    "44 & 11\n",
    "\\end{bmatrix}\n",
    "$$\"\"\"\n",
    "render_Latex(LATEX)"
   ]
  },
  {
   "cell_type": "code",
   "execution_count": null,
   "metadata": {},
   "outputs": [],
   "source": []
  },
  {
   "cell_type": "code",
   "execution_count": 20,
   "metadata": {},
   "outputs": [
    {
     "name": "stdout",
     "output_type": "stream",
     "text": [
      "pass valid LATEX syntax!!\n"
     ]
    }
   ],
   "source": [
    "render_Latex()"
   ]
  },
  {
   "cell_type": "code",
   "execution_count": null,
   "metadata": {},
   "outputs": [],
   "source": []
  }
 ],
 "metadata": {
  "kernelspec": {
   "display_name": "Python 3 (ipykernel)",
   "language": "python",
   "name": "python3"
  },
  "language_info": {
   "codemirror_mode": {
    "name": "ipython",
    "version": 3
   },
   "file_extension": ".py",
   "mimetype": "text/x-python",
   "name": "python",
   "nbconvert_exporter": "python",
   "pygments_lexer": "ipython3",
   "version": "3.8.13"
  },
  "vscode": {
   "interpreter": {
    "hash": "11d41d732e23306258eaea59e0c7743529220bcd6776aa25911eb0f8914bb9f3"
   }
  }
 },
 "nbformat": 4,
 "nbformat_minor": 2
}
