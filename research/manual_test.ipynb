{
 "cells": [
  {
   "cell_type": "code",
   "execution_count": 1,
   "metadata": {},
   "outputs": [],
   "source": [
    "from HTMLrenderer import *\n",
    "from HTMLrenderer.custom_exception import InvalidURLException"
   ]
  },
  {
   "cell_type": "code",
   "execution_count": 2,
   "metadata": {},
   "outputs": [
    {
     "data": {
      "text/html": [
       "\n",
       "        <iframe\n",
       "            width=\"100%\"\n",
       "            height=\"600\"\n",
       "            src=\"http://pytorch.org/\"\n",
       "            frameborder=\"0\"\n",
       "            allowfullscreen\n",
       "            \n",
       "        ></iframe>\n",
       "        "
      ],
      "text/plain": [
       "<IPython.lib.display.IFrame at 0x27269423e50>"
      ]
     },
     "metadata": {},
     "output_type": "display_data"
    },
    {
     "data": {
      "text/plain": [
       "'success'"
      ]
     },
     "execution_count": 2,
     "metadata": {},
     "output_type": "execute_result"
    }
   ],
   "source": [
    "URL = \"http://pytorch.org/\"\n",
    "render_site(URL = URL)"
   ]
  },
  {
   "cell_type": "code",
   "execution_count": 3,
   "metadata": {},
   "outputs": [
    {
     "data": {
      "text/html": [
       "\n",
       "        <iframe\n",
       "            width=\"100%\"\n",
       "            height=\"600\"\n",
       "            src=\"http://pytorch.org/\"\n",
       "            frameborder=\"0\"\n",
       "            allowfullscreen\n",
       "            \n",
       "        ></iframe>\n",
       "        "
      ],
      "text/plain": [
       "<IPython.lib.display.IFrame at 0x27268af0fa0>"
      ]
     },
     "metadata": {},
     "output_type": "display_data"
    },
    {
     "data": {
      "text/plain": [
       "'success'"
      ]
     },
     "execution_count": 3,
     "metadata": {},
     "output_type": "execute_result"
    }
   ],
   "source": [
    "URL = \"http://pytorch.org/\"\n",
    "render_site(URL = URL)"
   ]
  },
  {
   "cell_type": "code",
   "execution_count": 4,
   "metadata": {},
   "outputs": [
    {
     "name": "stdout",
     "output_type": "stream",
     "text": [
      "[2022-09-06 19:02:56,354: ERROR: site]: <urlopen error [Errno 11001] getaddrinfo failed>\n",
      "Traceback (most recent call last):\n",
      "  File \"f:\\YOUTUBE_2\\playground\\HTMLrenderer-c17hawke\\env\\lib\\urllib\\request.py\", line 1354, in do_open\n",
      "    h.request(req.get_method(), req.selector, req.data, headers,\n",
      "  File \"f:\\YOUTUBE_2\\playground\\HTMLrenderer-c17hawke\\env\\lib\\http\\client.py\", line 1256, in request\n",
      "    self._send_request(method, url, body, headers, encode_chunked)\n",
      "  File \"f:\\YOUTUBE_2\\playground\\HTMLrenderer-c17hawke\\env\\lib\\http\\client.py\", line 1302, in _send_request\n",
      "    self.endheaders(body, encode_chunked=encode_chunked)\n",
      "  File \"f:\\YOUTUBE_2\\playground\\HTMLrenderer-c17hawke\\env\\lib\\http\\client.py\", line 1251, in endheaders\n",
      "    self._send_output(message_body, encode_chunked=encode_chunked)\n",
      "  File \"f:\\YOUTUBE_2\\playground\\HTMLrenderer-c17hawke\\env\\lib\\http\\client.py\", line 1011, in _send_output\n",
      "    self.send(msg)\n",
      "  File \"f:\\YOUTUBE_2\\playground\\HTMLrenderer-c17hawke\\env\\lib\\http\\client.py\", line 951, in send\n",
      "    self.connect()\n",
      "  File \"f:\\YOUTUBE_2\\playground\\HTMLrenderer-c17hawke\\env\\lib\\http\\client.py\", line 922, in connect\n",
      "    self.sock = self._create_connection(\n",
      "  File \"f:\\YOUTUBE_2\\playground\\HTMLrenderer-c17hawke\\env\\lib\\socket.py\", line 787, in create_connection\n",
      "    for res in getaddrinfo(host, port, 0, SOCK_STREAM):\n",
      "  File \"f:\\YOUTUBE_2\\playground\\HTMLrenderer-c17hawke\\env\\lib\\socket.py\", line 918, in getaddrinfo\n",
      "    for res in _socket.getaddrinfo(host, port, family, type, proto, flags):\n",
      "socket.gaierror: [Errno 11001] getaddrinfo failed\n",
      "\n",
      "During handling of the above exception, another exception occurred:\n",
      "\n",
      "Traceback (most recent call last):\n",
      "  File \"F:\\YOUTUBE_2\\playground\\HTMLrenderer-c17hawke\\src\\HTMLrenderer\\site.py\", line 11, in is_valid\n",
      "    response_status = urllib.request.urlopen(URL).getcode()\n",
      "  File \"f:\\YOUTUBE_2\\playground\\HTMLrenderer-c17hawke\\env\\lib\\urllib\\request.py\", line 222, in urlopen\n",
      "    return opener.open(url, data, timeout)\n",
      "  File \"f:\\YOUTUBE_2\\playground\\HTMLrenderer-c17hawke\\env\\lib\\urllib\\request.py\", line 525, in open\n",
      "    response = self._open(req, data)\n",
      "  File \"f:\\YOUTUBE_2\\playground\\HTMLrenderer-c17hawke\\env\\lib\\urllib\\request.py\", line 542, in _open\n",
      "    result = self._call_chain(self.handle_open, protocol, protocol +\n",
      "  File \"f:\\YOUTUBE_2\\playground\\HTMLrenderer-c17hawke\\env\\lib\\urllib\\request.py\", line 502, in _call_chain\n",
      "    result = func(*args)\n",
      "  File \"f:\\YOUTUBE_2\\playground\\HTMLrenderer-c17hawke\\env\\lib\\urllib\\request.py\", line 1383, in http_open\n",
      "    return self.do_open(http.client.HTTPConnection, req)\n",
      "  File \"f:\\YOUTUBE_2\\playground\\HTMLrenderer-c17hawke\\env\\lib\\urllib\\request.py\", line 1357, in do_open\n",
      "    raise URLError(err)\n",
      "urllib.error.URLError: <urlopen error [Errno 11001] getaddrinfo failed>\n",
      "URL is not valid\n"
     ]
    }
   ],
   "source": [
    "try:\n",
    "    URL = \"http://asyef/\"\n",
    "    render_site(URL = URL)\n",
    "except Exception as e:\n",
    "    print(e)"
   ]
  },
  {
   "cell_type": "markdown",
   "metadata": {},
   "source": [
    "# Check render youtube video\n",
    "## For success"
   ]
  },
  {
   "cell_type": "code",
   "execution_count": 5,
   "metadata": {
    "scrolled": true
   },
   "outputs": [
    {
     "name": "stdout",
     "output_type": "stream",
     "text": [
      "[2022-09-06 19:02:57,215: INFO: youtube]: input URL: https://youtu.be/roO5VGxOw2s\n",
      "[2022-09-06 19:02:57,217: INFO: youtube]: vid id: roO5VGxOw2s, and starts at: 0, len of video id: 11\n",
      "[2022-09-06 19:02:57,218: INFO: youtube]: embed_URL: https://www.youtube.com/embed/roO5VGxOw2s?start=0\n"
     ]
    },
    {
     "data": {
      "text/html": [
       "<iframe\n",
       "            width=\"780\" height=\"600\"\n",
       "            src=\"https://www.youtube.com/embed/roO5VGxOw2s?start=0\"\n",
       "            title=\"YouTube video player\"\n",
       "            frameborder=\"0\"\n",
       "            allow=\"accelerometer;\n",
       "            autoplay; clipboard-write;\n",
       "            encrypted-media; gyroscope;\n",
       "            picture-in-picture\" allowfullscreen>\n",
       "            </iframe>"
      ],
      "text/plain": [
       "<IPython.core.display.HTML object>"
      ]
     },
     "metadata": {},
     "output_type": "display_data"
    },
    {
     "data": {
      "text/plain": [
       "'success'"
      ]
     },
     "metadata": {},
     "output_type": "display_data"
    },
    {
     "name": "stdout",
     "output_type": "stream",
     "text": [
      "success\n"
     ]
    }
   ],
   "source": [
    "URL = \"https://youtu.be/roO5VGxOw2s\"\n",
    "try:\n",
    "    response = render_YouTube_video(URL=URL)\n",
    "    display(response)\n",
    "    print(response)\n",
    "except Exception as e:\n",
    "    raise e\n",
    "    print(\"Exception:\", e)"
   ]
  },
  {
   "cell_type": "code",
   "execution_count": 6,
   "metadata": {},
   "outputs": [
    {
     "name": "stdout",
     "output_type": "stream",
     "text": [
      "[2022-09-06 19:02:58,105: INFO: youtube]: input URL: https://www.youtube.com/watch?v=roO5VGxOw2s\n",
      "[2022-09-06 19:02:58,107: INFO: youtube]: vid id: roO5VGxOw2s, and starts at: 0, len of video id: 11\n",
      "[2022-09-06 19:02:58,107: INFO: youtube]: embed_URL: https://www.youtube.com/embed/roO5VGxOw2s?start=0\n"
     ]
    },
    {
     "data": {
      "text/html": [
       "<iframe\n",
       "            width=\"780\" height=\"600\"\n",
       "            src=\"https://www.youtube.com/embed/roO5VGxOw2s?start=0\"\n",
       "            title=\"YouTube video player\"\n",
       "            frameborder=\"0\"\n",
       "            allow=\"accelerometer;\n",
       "            autoplay; clipboard-write;\n",
       "            encrypted-media; gyroscope;\n",
       "            picture-in-picture\" allowfullscreen>\n",
       "            </iframe>"
      ],
      "text/plain": [
       "<IPython.core.display.HTML object>"
      ]
     },
     "metadata": {},
     "output_type": "display_data"
    },
    {
     "name": "stdout",
     "output_type": "stream",
     "text": [
      "success\n"
     ]
    }
   ],
   "source": [
    "URL = \"https://www.youtube.com/watch?v=roO5VGxOw2s\"\n",
    "try:\n",
    "    response = render_YouTube_video(URL=URL)\n",
    "    print(response)\n",
    "except Exception as e:\n",
    "    print(\"Exception:\", e)"
   ]
  },
  {
   "cell_type": "code",
   "execution_count": 7,
   "metadata": {},
   "outputs": [
    {
     "name": "stdout",
     "output_type": "stream",
     "text": [
      "[2022-09-06 19:02:58,965: INFO: youtube]: input URL: https://www.youtube.com/watch?v=roO5VGxOw2s&t=42s\n",
      "[2022-09-06 19:02:58,966: INFO: youtube]: vid id: roO5VGxOw2s, and starts at: 42, len of video id: 11\n",
      "[2022-09-06 19:02:58,967: INFO: youtube]: embed_URL: https://www.youtube.com/embed/roO5VGxOw2s?start=42\n"
     ]
    },
    {
     "data": {
      "text/html": [
       "<iframe\n",
       "            width=\"780\" height=\"600\"\n",
       "            src=\"https://www.youtube.com/embed/roO5VGxOw2s?start=42\"\n",
       "            title=\"YouTube video player\"\n",
       "            frameborder=\"0\"\n",
       "            allow=\"accelerometer;\n",
       "            autoplay; clipboard-write;\n",
       "            encrypted-media; gyroscope;\n",
       "            picture-in-picture\" allowfullscreen>\n",
       "            </iframe>"
      ],
      "text/plain": [
       "<IPython.core.display.HTML object>"
      ]
     },
     "metadata": {},
     "output_type": "display_data"
    },
    {
     "name": "stdout",
     "output_type": "stream",
     "text": [
      "success\n"
     ]
    }
   ],
   "source": [
    "URL = \"https://www.youtube.com/watch?v=roO5VGxOw2s&t=42s\"\n",
    "try:\n",
    "    response = render_YouTube_video(URL=URL)\n",
    "    print(response)\n",
    "except Exception as e:\n",
    "    print(\"Exception:\", e)"
   ]
  },
  {
   "cell_type": "markdown",
   "metadata": {},
   "source": [
    "## For Failure"
   ]
  },
  {
   "cell_type": "code",
   "execution_count": 8,
   "metadata": {},
   "outputs": [
    {
     "name": "stdout",
     "output_type": "stream",
     "text": [
      "[2022-09-06 19:02:59,917: INFO: youtube]: input URL: https://www.youtube.com/watch?v=roO5VGxOw2sahesbf\n",
      "Invalid video id with length: 17, expected 11\n"
     ]
    }
   ],
   "source": [
    "URL = \"https://www.youtube.com/watch?v=roO5VGxOw2sahesbf\"\n",
    "try:\n",
    "    response = render_YouTube_video(URL=URL)\n",
    "    print(response)\n",
    "except Exception as e:\n",
    "    print(e)\n",
    "#     raise e"
   ]
  },
  {
   "cell_type": "code",
   "execution_count": 9,
   "metadata": {
    "scrolled": true
   },
   "outputs": [
    {
     "name": "stdout",
     "output_type": "stream",
     "text": [
      "URL is not valid, Kindly verify\n"
     ]
    }
   ],
   "source": [
    "URL = \"https://www.youtube.com/watch?v=roO5VGxOw00\"\n",
    "try:\n",
    "    response = render_YouTube_video(URL=URL)\n",
    "    print(response)\n",
    "except Exception as e:\n",
    "    print(e)\n",
    "#     raise e"
   ]
  },
  {
   "cell_type": "code",
   "execution_count": 10,
   "metadata": {
    "scrolled": true
   },
   "outputs": [
    {
     "name": "stdout",
     "output_type": "stream",
     "text": [
      "URL is not valid, Kindly verify\n"
     ]
    }
   ],
   "source": [
    "URL = \"https://www.youtube.com/watch?v=roO5VGxOw__\"\n",
    "try:\n",
    "    render_YouTube_video(URL=URL)\n",
    "except Exception as e:\n",
    "    print(e)\n",
    "#     raise e"
   ]
  },
  {
   "cell_type": "code",
   "execution_count": 11,
   "metadata": {
    "scrolled": true
   },
   "outputs": [
    {
     "name": "stdout",
     "output_type": "stream",
     "text": [
      "URL is not valid, Kindly verify\n"
     ]
    }
   ],
   "source": [
    "URL = \"https://www.youtube.com/watch?v=roO5VGxOwpp\"\n",
    "try:\n",
    "    response = render_YouTube_video(URL=URL)\n",
    "    print(response)\n",
    "except Exception as e:\n",
    "    print(e)\n",
    "#     raise e"
   ]
  },
  {
   "cell_type": "code",
   "execution_count": 12,
   "metadata": {},
   "outputs": [
    {
     "name": "stdout",
     "output_type": "stream",
     "text": [
      "[2022-09-06 19:03:02,034: INFO: youtube]: input URL: https://www.youtube.com/watch?v=roO5VGxOw2s&t\n",
      "Invalid video id with length: 29, expected 11\n"
     ]
    }
   ],
   "source": [
    "URL = \"https://www.youtube.com/watch?v=roO5VGxOw2s&t\"\n",
    "try:\n",
    "    response = render_YouTube_video(URL=URL)\n",
    "    print(response)\n",
    "except Exception as e:\n",
    "    print(e)\n",
    "#     raise e"
   ]
  },
  {
   "cell_type": "code",
   "execution_count": 13,
   "metadata": {},
   "outputs": [
    {
     "name": "stdout",
     "output_type": "stream",
     "text": [
      "[2022-09-06 19:03:02,903: INFO: youtube]: input URL: https://www.youtube.com/watch?v=roO5VGxOw2s&t==22s\n",
      "Invalid video id with length: 0, expected 11\n"
     ]
    }
   ],
   "source": [
    "URL = \"https://www.youtube.com/watch?v=roO5VGxOw2s&t==22s\"\n",
    "try:\n",
    "    response = render_YouTube_video(URL=URL)\n",
    "    print(response)\n",
    "except Exception as e:\n",
    "    print(e)\n",
    "#     raise e"
   ]
  },
  {
   "cell_type": "code",
   "execution_count": 14,
   "metadata": {},
   "outputs": [
    {
     "name": "stdout",
     "output_type": "stream",
     "text": [
      "URL is not valid, Kindly verify\n"
     ]
    }
   ],
   "source": [
    "URL = \"https://www.youtube.com/watch?v==roO5VGxOw2s&t=22s\"\n",
    "try:\n",
    "    response = render_YouTube_video(URL=URL)\n",
    "    print(response)\n",
    "except Exception as e:\n",
    "    print(e)\n",
    "#     raise e"
   ]
  }
 ],
 "metadata": {
  "kernelspec": {
   "display_name": "Python 3 (ipykernel)",
   "language": "python",
   "name": "python3"
  },
  "language_info": {
   "codemirror_mode": {
    "name": "ipython",
    "version": 3
   },
   "file_extension": ".py",
   "mimetype": "text/x-python",
   "name": "python",
   "nbconvert_exporter": "python",
   "pygments_lexer": "ipython3",
   "version": "3.8.13"
  },
  "vscode": {
   "interpreter": {
    "hash": "11d41d732e23306258eaea59e0c7743529220bcd6776aa25911eb0f8914bb9f3"
   }
  }
 },
 "nbformat": 4,
 "nbformat_minor": 2
}
